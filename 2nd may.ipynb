{
 "cells": [
  {
   "cell_type": "code",
   "execution_count": null,
   "id": "0b82b27d-3557-4631-8c8d-6a3e14af5020",
   "metadata": {},
   "outputs": [],
   "source": [
    "Q1. What is anomaly detection and what is its purpose?\n",
    " \n",
    "Anomaly detection is a technique used in data analysis to identify patterns in data that deviate significantly from the \n",
    "expected or normal behavior. The purpose of anomaly detection is to detect unusual or anomalous behavior that may indicate\n",
    " a problem, threat, or opportunity.\n",
    "\n",
    "purpose of anomaly detection :\n",
    "\n",
    "i.Anomaly detection can be used in various fields such as cybersecurity, fraud detection, fault detection, predictive maintenance, and more.\n",
    "ii.Anomaly detection techniques can be supervised, unsupervised, or semi-supervised, depending on the availability of labeled data.\n",
    "iii.In supervised anomaly detection, a model is trained on labeled data to classify anomalies, while in unsupervised anomaly detection, \n",
    "the model learns the normal behavior of the data and flags any deviation from it as an anomaly.\n",
    "iv.Anomaly detection can be performed using various statistical, machine learning, and deep learning techniques, such as clustering, nearest\n",
    " neighbor, SVM, neural networks, and more.\n",
    "v.The effectiveness of anomaly detection depends on the quality of data, the choice of algorithm, and the definition of anomalies.\n"
   ]
  },
  {
   "cell_type": "code",
   "execution_count": null,
   "id": "a7a5eb91-8700-43db-b710-73313d7546d0",
   "metadata": {},
   "outputs": [],
   "source": [
    "\n",
    "\n",
    "Q2. What are the key challenges in anomaly detection?\n",
    "\n",
    "some of the main challenges:\n",
    "\n",
    "i.Lack of labeled data: Supervised anomaly detection requires labeled data, which can be difficult to obtain in some domains. Collecting\n",
    " and labeling data can be time-consuming and expensive, and in some cases, anomalies may not be well-defined or may be rare, making it \n",
    "challenging to create a representative labeled dataset.\n",
    "\n",
    "ii.Imbalanced data: In many datasets, anomalies are rare compared to normal data, resulting in imbalanced data. This can make it difficult \n",
    "for the model to learn to detect anomalies, as it may be biased towards the majority class.\n",
    "\n",
    "iii.Lack of clear definition of anomalies: In some domains, what constitutes an anomaly may not be well-defined or may be subjective.\n",
    " For example, in fraud detection, the definition of fraud may vary depending on the context or jurisdiction.\n",
    "\n",
    "iv.Concept drift: Data distributions may change over time, making it difficult for models trained on past data to detect anomalies in the\n",
    " current data. This is known as concept drift and requires continuous monitoring and adaptation of anomaly detection models.\n",
    "\n",
    "v.Noisy data: Real-world data is often noisy, containing errors, missing values, and outliers that can impact the effectiveness of anomaly detection algorithms.\n",
    "\n",
    "vi.Scalability: Some anomaly detection algorithms can be computationally expensive and may not scale well to large datasets or real-time processing.\n"
   ]
  },
  {
   "cell_type": "code",
   "execution_count": null,
   "id": "f57245ed-17e7-46b4-8105-bf8155d445f3",
   "metadata": {},
   "outputs": [],
   "source": []
  },
  {
   "cell_type": "code",
   "execution_count": null,
   "id": "19cf6895-1df6-46f7-a28c-e16f904f1360",
   "metadata": {},
   "outputs": [],
   "source": []
  },
  {
   "cell_type": "code",
   "execution_count": null,
   "id": "17d082a5-b3f7-4aea-84e8-1b9324928854",
   "metadata": {},
   "outputs": [],
   "source": []
  },
  {
   "cell_type": "code",
   "execution_count": null,
   "id": "ddf9c0dc-75a3-461d-beb4-8b6d12243ed5",
   "metadata": {},
   "outputs": [],
   "source": []
  },
  {
   "cell_type": "code",
   "execution_count": null,
   "id": "14a088f7-484c-4625-a8c1-972dba308fdb",
   "metadata": {},
   "outputs": [],
   "source": []
  },
  {
   "cell_type": "code",
   "execution_count": null,
   "id": "3c561b00-afca-4aa7-ad60-56fa74279fe2",
   "metadata": {},
   "outputs": [],
   "source": []
  },
  {
   "cell_type": "code",
   "execution_count": null,
   "id": "cc136fae-7e0b-437f-ae18-266d74ee96b1",
   "metadata": {},
   "outputs": [],
   "source": []
  }
 ],
 "metadata": {
  "kernelspec": {
   "display_name": "Python 3 (ipykernel)",
   "language": "python",
   "name": "python3"
  },
  "language_info": {
   "codemirror_mode": {
    "name": "ipython",
    "version": 3
   },
   "file_extension": ".py",
   "mimetype": "text/x-python",
   "name": "python",
   "nbconvert_exporter": "python",
   "pygments_lexer": "ipython3",
   "version": "3.10.8"
  }
 },
 "nbformat": 4,
 "nbformat_minor": 5
}
